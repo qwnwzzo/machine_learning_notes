{
 "cells": [
  {
   "cell_type": "code",
   "execution_count": 1,
   "metadata": {
    "collapsed": true
   },
   "outputs": [],
   "source": [
    "import tensorflow as tf"
   ]
  },
  {
   "cell_type": "code",
   "execution_count": 2,
   "metadata": {
    "collapsed": false
   },
   "outputs": [
    {
     "name": "stdout",
     "output_type": "stream",
     "text": [
      "Extracting ./data/train-images-idx3-ubyte.gz\n",
      "Extracting ./data/train-labels-idx1-ubyte.gz\n",
      "Extracting ./data/t10k-images-idx3-ubyte.gz\n",
      "Extracting ./data/t10k-labels-idx1-ubyte.gz\n"
     ]
    }
   ],
   "source": [
    "from tensorflow.examples.tutorials.mnist import input_data\n",
    "mnist = input_data.read_data_sets(\"./data/\", one_hot=True)"
   ]
  },
  {
   "cell_type": "code",
   "execution_count": 3,
   "metadata": {
    "collapsed": false
   },
   "outputs": [
    {
     "name": "stdout",
     "output_type": "stream",
     "text": [
      "Datasets(train=<tensorflow.contrib.learn.python.learn.datasets.mnist.DataSet object at 0x10d7fa588>, validation=<tensorflow.contrib.learn.python.learn.datasets.mnist.DataSet object at 0x10d7fafd0>, test=<tensorflow.contrib.learn.python.learn.datasets.mnist.DataSet object at 0x10d7e7518>)\n"
     ]
    }
   ],
   "source": [
    "print(mnist)"
   ]
  },
  {
   "cell_type": "code",
   "execution_count": 4,
   "metadata": {
    "collapsed": true
   },
   "outputs": [],
   "source": [
    "# Parameters\n",
    "learning_rate = 0.01\n",
    "training_epochs = 50\n",
    "batch_size = 100\n",
    "display_step = 1"
   ]
  },
  {
   "cell_type": "code",
   "execution_count": 5,
   "metadata": {
    "collapsed": true
   },
   "outputs": [],
   "source": [
    "# tf Graph Input\n",
    "x = tf.placeholder(tf.float32, [None, 784]) # mnist data image of shape 28*28=784\n",
    "y = tf.placeholder(tf.float32, [None, 10]) # 0-9 digits recognition => 10 classes\n",
    "\n",
    "# Set model weights\n",
    "W = tf.Variable(tf.zeros([784, 10]))\n",
    "b = tf.Variable(tf.zeros([10]))"
   ]
  },
  {
   "cell_type": "code",
   "execution_count": 6,
   "metadata": {
    "collapsed": false
   },
   "outputs": [],
   "source": [
    "# Construct model\n",
    "pred = tf.nn.softmax(tf.matmul(x, W) + b) # Softmax\n",
    "\n",
    "# Minimize error using cross entropy\n",
    "# cost = tf.reduce_mean(-tf.reduce_sum(y*tf.log(pred), reduction_indices=1))\n",
    "cost = tf.reduce_mean(tf.nn.softmax_cross_entropy_with_logits(labels=y, logits=pred))\n",
    "# Gradient Descent\n",
    "optimizer = tf.train.GradientDescentOptimizer(learning_rate).minimize(cost)"
   ]
  },
  {
   "cell_type": "code",
   "execution_count": null,
   "metadata": {
    "collapsed": true
   },
   "outputs": [],
   "source": [
    "# Initialize the variables (i.e. assign their default value)\n",
    "init = tf.global_variables_initializer()"
   ]
  },
  {
   "cell_type": "code",
   "execution_count": null,
   "metadata": {
    "collapsed": false
   },
   "outputs": [
    {
     "name": "stdout",
     "output_type": "stream",
     "text": [
      "Epoch: 0001 cost= 2.250455089\n",
      "Epoch: 0002 cost= 2.090754262\n",
      "Epoch: 0003 cost= 1.961263886\n",
      "Epoch: 0004 cost= 1.883004445\n",
      "Epoch: 0005 cost= 1.833479785\n",
      "Epoch: 0006 cost= 1.801563472\n",
      "Epoch: 0007 cost= 1.779551175\n",
      "Epoch: 0008 cost= 1.763391599\n",
      "Epoch: 0009 cost= 1.750929630\n",
      "Epoch: 0010 cost= 1.740969839\n",
      "Epoch: 0011 cost= 1.732798896\n",
      "Epoch: 0012 cost= 1.725950862\n",
      "Epoch: 0013 cost= 1.720093599\n",
      "Epoch: 0014 cost= 1.715034328\n",
      "Epoch: 0015 cost= 1.710586703\n",
      "Epoch: 0016 cost= 1.706637048\n",
      "Epoch: 0017 cost= 1.703104816\n",
      "Epoch: 0018 cost= 1.699906727\n",
      "Epoch: 0019 cost= 1.696994870\n",
      "Epoch: 0020 cost= 1.694325040\n",
      "Epoch: 0021 cost= 1.691845957\n",
      "Epoch: 0022 cost= 1.689531801\n",
      "Epoch: 0023 cost= 1.687331970\n",
      "Epoch: 0024 cost= 1.685181604\n",
      "Epoch: 0025 cost= 1.683001805\n",
      "Epoch: 0026 cost= 1.680515146\n",
      "Epoch: 0027 cost= 1.676952204\n",
      "Epoch: 0028 cost= 1.670835712\n",
      "Epoch: 0029 cost= 1.664020044\n",
      "Epoch: 0030 cost= 1.659021661\n",
      "Epoch: 0031 cost= 1.654596417\n",
      "Epoch: 0032 cost= 1.650375561\n",
      "Epoch: 0033 cost= 1.646339979\n",
      "Epoch: 0034 cost= 1.642530041\n",
      "Epoch: 0035 cost= 1.639001188\n",
      "Epoch: 0036 cost= 1.635787527\n",
      "Epoch: 0037 cost= 1.632898575\n",
      "Epoch: 0038 cost= 1.630320887\n",
      "Epoch: 0039 cost= 1.628023264\n",
      "Epoch: 0040 cost= 1.625964691\n",
      "Epoch: 0041 cost= 1.624101251\n",
      "Epoch: 0042 cost= 1.622394904\n",
      "Epoch: 0043 cost= 1.620825369\n",
      "Epoch: 0044 cost= 1.619365315\n"
     ]
    }
   ],
   "source": [
    "# Start training\n",
    "with tf.Session() as sess:\n",
    "\n",
    "    # Run the initializer\n",
    "    sess.run(init)\n",
    "\n",
    "    # Training cycle\n",
    "    for epoch in range(training_epochs):\n",
    "        avg_cost = 0.\n",
    "        total_batch = int(mnist.train.num_examples/batch_size)\n",
    "        # Loop over all batches\n",
    "        for i in range(total_batch):\n",
    "            batch_xs, batch_ys = mnist.train.next_batch(batch_size)\n",
    "            # Run optimization op (backprop) and cost op (to get loss value)\n",
    "            _, c = sess.run([optimizer, cost], feed_dict={x: batch_xs,\n",
    "                                                          y: batch_ys})\n",
    "            # Compute average loss\n",
    "            avg_cost += c / total_batch\n",
    "        # Display logs per epoch step\n",
    "        if (epoch+1) % display_step == 0:\n",
    "            print(\"Epoch:\", '%04d' % (epoch+1), \"cost=\", \"{:.9f}\".format(avg_cost))\n",
    "\n",
    "    print(\"Optimization Finished!\")\n",
    "\n",
    "    # Test model\n",
    "    correct_prediction = tf.equal(tf.argmax(pred, 1), tf.argmax(y, 1))\n",
    "    # Calculate accuracy\n",
    "    accuracy = tf.reduce_mean(tf.cast(correct_prediction, tf.float32))\n",
    "    print(\"Accuracy:\", accuracy.eval({x: mnist.test.images, y: mnist.test.labels}))"
   ]
  },
  {
   "cell_type": "code",
   "execution_count": null,
   "metadata": {
    "collapsed": true
   },
   "outputs": [],
   "source": []
  },
  {
   "cell_type": "code",
   "execution_count": null,
   "metadata": {
    "collapsed": true
   },
   "outputs": [],
   "source": []
  },
  {
   "cell_type": "code",
   "execution_count": null,
   "metadata": {
    "collapsed": true
   },
   "outputs": [],
   "source": []
  }
 ],
 "metadata": {
  "kernelspec": {
   "display_name": "Python 3",
   "language": "python",
   "name": "python3"
  },
  "language_info": {
   "codemirror_mode": {
    "name": "ipython",
    "version": 3
   },
   "file_extension": ".py",
   "mimetype": "text/x-python",
   "name": "python",
   "nbconvert_exporter": "python",
   "pygments_lexer": "ipython3",
   "version": "3.6.0"
  }
 },
 "nbformat": 4,
 "nbformat_minor": 2
}
