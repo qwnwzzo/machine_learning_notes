{
 "cells": [
  {
   "cell_type": "code",
   "execution_count": 1,
   "metadata": {
    "collapsed": false
   },
   "outputs": [],
   "source": [
    "# We can fit a better function to the data points by introducing non-linearity in our model. \n",
    "# One way to do so is to map each input x to a high dimensional feature space of [1, x, x2, x3, x4, x5] \n",
    "# and then train a linear regression on top of the feature space. \n",
    "# Note that in this case, you might have to normalize each dimension of the feature space before training your model."
   ]
  },
  {
   "cell_type": "code",
   "execution_count": 2,
   "metadata": {
    "collapsed": true
   },
   "outputs": [],
   "source": [
    "import numpy as np\n",
    "import matplotlib.pyplot as plt"
   ]
  },
  {
   "cell_type": "code",
   "execution_count": 3,
   "metadata": {
    "collapsed": true
   },
   "outputs": [],
   "source": [
    "def feature_space_and_normalization(train_x):\n",
    "    one = np.ones(train_x.shape[0]).reshape(train_x.shape[0], 1)\n",
    "    \n",
    "    # for x\n",
    "    index_1 = (train_x - np.mean(train_x)) / (train_x.max() - train_x.min())\n",
    "    \n",
    "    # for x^2\n",
    "    index_2 = np.ones(train_x.shape[0]).reshape(train_x.shape[0], 1) * train_x\n",
    "    index_2 = index_2 ** 2\n",
    "    index_2 = (index_2 - np.mean(index_2)) / (index_2.max()-index_2.min())\n",
    "\n",
    "    # for x^3\n",
    "    index_3 = np.ones(train_x.shape[0]).reshape(train_x.shape[0], 1) * train_x\n",
    "    index_3 = index_3 ** 3\n",
    "    index_3 = (index_3 - np.mean(index_3)) / (index_3.max()-index_3.min())\n",
    "\n",
    "    # for x^4\n",
    "    index_4 = np.ones(train_x.shape[0]).reshape(train_x.shape[0], 1) * train_x\n",
    "    index_4 = index_4 ** 4\n",
    "    index_4 = (index_4 - np.mean(index_4)) / (index_4.max()-index_4.min())\n",
    "\n",
    "    # for x^5\n",
    "    index_5 = np.ones(train_x.shape[0]).reshape(train_x.shape[0], 1) * train_x\n",
    "    index_5 = index_5 ** 5\n",
    "    index_5 = (index_5 - np.mean(index_5)) / (index_5.max()-index_5.min())\n",
    "    \n",
    "    # training data\n",
    "    train_sample = np.hstack((one, index_1, index_2, index_3, index_4, index_5))\n",
    "    \n",
    "    return train_sample\n",
    "\n",
    "def calculate_delta(train_y, test_y, input_data_x):\n",
    "    delta = np.sum((train_y - test_y) * input_data_x, axis=0) * 2 / train_y.shape[0]\n",
    "    delta = delta.reshape(input_data_x.shape[1], 1)\n",
    "    return delta\n",
    "\n",
    "\n",
    "def cost_function(train_y, test_y):\n",
    "    cost = np.sum((train_y - test_y) ** 2) / train_y.shape[0]\n",
    "    return cost"
   ]
  },
  {
   "cell_type": "code",
   "execution_count": 4,
   "metadata": {
    "collapsed": false
   },
   "outputs": [],
   "source": [
    "train_x = np.linspace(1.0, 10.0, num = 100)[:, np.newaxis]\n",
    "train_y = np.sin(train_x) + 0.1 * np.power(train_x, 2) + 0.5 * np.random.randn(100, 1)\n",
    "\n",
    "# training data\n",
    "train_sample = feature_space_and_normalization(train_x)\n",
    "\n",
    "parameter = np.random.randn(6, 1)\n",
    "# learning rate\n",
    "eta = 0.1\n",
    "epoch = 50000"
   ]
  },
  {
   "cell_type": "code",
   "execution_count": 5,
   "metadata": {
    "collapsed": true
   },
   "outputs": [],
   "source": [
    "for i in range(epoch):\n",
    "    test_y = train_sample.dot(parameter)\n",
    "    \n",
    "    cost = cost_function(train_y, test_y)\n",
    "    \n",
    "    # early stop\n",
    "    if cost < 0.0001 and cost > -0.0001:\n",
    "        break\n",
    "    \n",
    "    delta = calculate_delta(train_y, test_y, train_sample)\n",
    "    parameter = parameter + eta * delta"
   ]
  },
  {
   "cell_type": "code",
   "execution_count": 6,
   "metadata": {
    "collapsed": true
   },
   "outputs": [],
   "source": [
    "test_y = train_sample.dot(parameter)"
   ]
  },
  {
   "cell_type": "code",
   "execution_count": 7,
   "metadata": {
    "collapsed": false
   },
   "outputs": [
    {
     "data": {
      "image/png": "[encoded data removed]",
      "text/plain": [
       "<matplotlib.figure.Figure at 0x11731c860>"
      ]
     },
     "metadata": {},
     "output_type": "display_data"
    }
   ],
   "source": [
    "plt.plot(train_x, train_y, 'ro', label = \"the training data\")\n",
    "plt.plot(train_x, test_y, label = \"the fitted curve\")\n",
    "plt.title('Feature Space')\n",
    "plt.xlabel('train_x')\n",
    "plt.ylabel('train_y')\n",
    "plt.legend(loc = 0)\n",
    "plt.show()"
   ]
  },
  {
   "cell_type": "code",
   "execution_count": null,
   "metadata": {
    "collapsed": true
   },
   "outputs": [],
   "source": []
  }
 ],
 "metadata": {
  "kernelspec": {
   "display_name": "Python 3",
   "language": "python",
   "name": "python3"
  },
  "language_info": {
   "codemirror_mode": {
    "name": "ipython",
    "version": 3
   },
   "file_extension": ".py",
   "mimetype": "text/x-python",
   "name": "python",
   "nbconvert_exporter": "python",
   "pygments_lexer": "ipython3",
   "version": "3.6.0"
  }
 },
 "nbformat": 4,
 "nbformat_minor": 2
}
