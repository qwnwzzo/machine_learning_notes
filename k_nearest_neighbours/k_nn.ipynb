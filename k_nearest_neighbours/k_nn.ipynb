{
 "cells": [
  {
   "cell_type": "code",
   "execution_count": 1,
   "metadata": {
    "collapsed": true
   },
   "outputs": [],
   "source": [
    "import numpy as np\n",
    "import matplotlib.pyplot as plt"
   ]
  },
  {
   "cell_type": "code",
   "execution_count": 2,
   "metadata": {
    "collapsed": true
   },
   "outputs": [],
   "source": [
    "with np.load(\"TINY_MNIST.npz\") as data:\n",
    "    # x: 800 * 64, t: 800 * 1\n",
    "    x, t = data[\"x\"], data[\"t\"]\n",
    "    # x_eval: 400 * 64, t_eval: 400 * 1\n",
    "    x_eval, t_eval = data[\"x_eval\"], data[\"t_eval\"]"
   ]
  },
  {
   "cell_type": "code",
   "execution_count": 3,
   "metadata": {
    "collapsed": false
   },
   "outputs": [],
   "source": [
    "# input_data: 64 * 1\n",
    "# train_data: 800 * 64\n",
    "# train_target: 800 * 1\n",
    "def knn(input_data, train_data, train_target, k):\n",
    "    # training data size\n",
    "    train_data_size = train_data.shape[0]\n",
    "    difference = np.tile(input_data, (train_data_size, 1)) - train_data\n",
    "    square = difference ** 2\n",
    "    distance = square.sum(axis = 1) ** 0.5\n",
    "    sorted_distance_indix = distance.argsort()\n",
    "    label_count = {0: 0, 1: 0}\n",
    "    \n",
    "    for i in range(k):\n",
    "        label = np.float(train_target[sorted_distance_indix[i]])\n",
    "        label_count[label] = label_count[label] + 1\n",
    "    \n",
    "    if label_count[0] > label_count[1]:\n",
    "        return 0\n",
    "    else:\n",
    "        return 1"
   ]
  },
  {
   "cell_type": "code",
   "execution_count": 4,
   "metadata": {
    "collapsed": false
   },
   "outputs": [],
   "source": [
    "def calculate_error(test_target, t_eval):\n",
    "    test_error = 0\n",
    "    test_error_array = test_target - t_eval\n",
    "    \n",
    "    for i in range(test_error_array.shape[0]):\n",
    "        if test_error_array[i, :] != 0:\n",
    "            test_error = test_error + 1\n",
    "    \n",
    "    return test_error"
   ]
  },
  {
   "cell_type": "code",
   "execution_count": 5,
   "metadata": {
    "collapsed": true
   },
   "outputs": [],
   "source": [
    "# k = 1        \n",
    "test_target_k_1 = []\n",
    "# k = 3\n",
    "test_target_k_3 = []\n",
    "# k = 5\n",
    "test_target_k_5 = []\n",
    "# k = 7\n",
    "test_target_k_7 = []\n",
    "# k = 21\n",
    "test_target_k_21 = []\n",
    "# k = 101\n",
    "test_target_k_101 = []\n",
    "# k = 401\n",
    "test_target_k_401 = []"
   ]
  },
  {
   "cell_type": "code",
   "execution_count": 6,
   "metadata": {
    "collapsed": true
   },
   "outputs": [],
   "source": [
    "# k = 1  \n",
    "test_error_k_1 = 0\n",
    "# k = 3\n",
    "test_error_k_3 = 0\n",
    "# k = 5\n",
    "test_error_k_5 = 0\n",
    "# k = 7\n",
    "test_error_k_7 = 0\n",
    "# k = 21\n",
    "test_error_k_21 = 0\n",
    "# k = 101\n",
    "test_error_k_101 = 0\n",
    "# k = 401\n",
    "test_error_k_401 = 0"
   ]
  },
  {
   "cell_type": "code",
   "execution_count": 7,
   "metadata": {
    "collapsed": false
   },
   "outputs": [],
   "source": [
    "# calculate the predicted target label for k = 1, 3, 5, 7, 21, 101, 401\n",
    "for i in range(x_eval.shape[0]):\n",
    "    # k = 1\n",
    "    test_label_k_1 = knn(x_eval[i, :], x, t, 1)\n",
    "    test_target_k_1.append(test_label_k_1)\n",
    "    \n",
    "    # k = 3\n",
    "    test_label_k_3 = knn(x_eval[i, :], x, t, 3)\n",
    "    test_target_k_3.append(test_label_k_3)\n",
    "    \n",
    "    # k = 5\n",
    "    test_label_k_5 = knn(x_eval[i, :], x, t, 5)\n",
    "    test_target_k_5.append(test_label_k_5)\n",
    "    \n",
    "    # k = 7\n",
    "    test_label_k_7 = knn(x_eval[i, :], x, t, 7)\n",
    "    test_target_k_7.append(test_label_k_7)\n",
    "    \n",
    "    # k = 21\n",
    "    test_label_k_21 = knn(x_eval[i, :], x, t, 21)\n",
    "    test_target_k_21.append(test_label_k_21)\n",
    "    \n",
    "    # k = 101\n",
    "    test_label_k_101 = knn(x_eval[i, :], x, t, 101)\n",
    "    test_target_k_101.append(test_label_k_101)\n",
    "    \n",
    "    # k = 401\n",
    "    test_label_k_401 = knn(x_eval[i, :], x, t, 401)\n",
    "    test_target_k_401.append(test_label_k_401)"
   ]
  },
  {
   "cell_type": "code",
   "execution_count": 8,
   "metadata": {
    "collapsed": false
   },
   "outputs": [],
   "source": [
    "# k = 1\n",
    "test_target_k_1 = np.array(test_target_k_1).reshape(t_eval.shape[0], t_eval.shape[1])\n",
    "test_error_k_1 = calculate_error(test_target_k_1, t_eval)\n",
    "\n",
    "# k = 3\n",
    "test_target_k_3 = np.array(test_target_k_3).reshape(t_eval.shape[0], t_eval.shape[1])\n",
    "test_error_k_3 = calculate_error(test_target_k_3, t_eval)\n",
    "\n",
    "# k = 5\n",
    "test_target_k_5 = np.array(test_target_k_5).reshape(t_eval.shape[0], t_eval.shape[1])\n",
    "test_error_k_5 = calculate_error(test_target_k_5, t_eval)\n",
    "\n",
    "# k = 7\n",
    "test_target_k_7 = np.array(test_target_k_7).reshape(t_eval.shape[0], t_eval.shape[1])\n",
    "test_error_k_7 = calculate_error(test_target_k_7, t_eval)\n",
    "\n",
    "# k = 21\n",
    "test_target_k_21 = np.array(test_target_k_21).reshape(t_eval.shape[0], t_eval.shape[1])\n",
    "test_error_k_21 = calculate_error(test_target_k_21, t_eval)\n",
    "\n",
    "# k = 101\n",
    "test_target_k_101 = np.array(test_target_k_101).reshape(t_eval.shape[0], t_eval.shape[1])\n",
    "test_error_k_101 = calculate_error(test_target_k_101, t_eval)\n",
    "\n",
    "# k = 401\n",
    "test_target_k_401 = np.array(test_target_k_401).reshape(t_eval.shape[0], t_eval.shape[1])\n",
    "test_error_k_401 = calculate_error(test_target_k_401, t_eval)"
   ]
  },
  {
   "cell_type": "code",
   "execution_count": 9,
   "metadata": {
    "collapsed": false
   },
   "outputs": [
    {
     "name": "stdout",
     "output_type": "stream",
     "text": [
      "[['k' 'Validation Errors']\n",
      " ['1.0' '12.0']\n",
      " ['3.0' '8.0']\n",
      " ['5.0' '10.0']\n",
      " ['7.0' '9.0']\n",
      " ['21.0' '11.0']\n",
      " ['101.0' '24.0']\n",
      " ['401.0' '51.0']]\n"
     ]
    }
   ],
   "source": [
    "title = np.array([[\"k\", \"Validation Errors\"]])\n",
    "result = np.ones(14).reshape(7, 2)\n",
    "\n",
    "result[0, 0] = 1\n",
    "result[0, 1] = test_error_k_1\n",
    "\n",
    "result[1, 0] = 3\n",
    "result[1, 1] = test_error_k_3\n",
    "\n",
    "result[2, 0] = 5\n",
    "result[2, 1] = test_error_k_5\n",
    "\n",
    "result[3, 0] = 7\n",
    "result[3, 1] = test_error_k_7\n",
    "\n",
    "result[4, 0] = 21\n",
    "result[4, 1] = test_error_k_21\n",
    "\n",
    "result[5, 0] = 101\n",
    "result[5, 1] = test_error_k_101\n",
    "\n",
    "result[6, 0] = 401\n",
    "result[6, 1] = test_error_k_401\n",
    "\n",
    "result = np.vstack((title, result))\n",
    "print(result)"
   ]
  },
  {
   "cell_type": "code",
   "execution_count": null,
   "metadata": {
    "collapsed": true
   },
   "outputs": [],
   "source": []
  }
 ],
 "metadata": {
  "kernelspec": {
   "display_name": "Python 3",
   "language": "python",
   "name": "python3"
  },
  "language_info": {
   "codemirror_mode": {
    "name": "ipython",
    "version": 3
   },
   "file_extension": ".py",
   "mimetype": "text/x-python",
   "name": "python",
   "nbconvert_exporter": "python",
   "pygments_lexer": "ipython3",
   "version": "3.6.0"
  }
 },
 "nbformat": 4,
 "nbformat_minor": 2
}
