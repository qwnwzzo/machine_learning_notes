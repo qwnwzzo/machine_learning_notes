{
 "cells": [
  {
   "cell_type": "code",
   "execution_count": 51,
   "metadata": {
    "collapsed": false
   },
   "outputs": [],
   "source": [
    "import numpy as np\n",
    "import matplotlib.pyplot as plt"
   ]
  },
  {
   "cell_type": "code",
   "execution_count": 52,
   "metadata": {
    "collapsed": true
   },
   "outputs": [],
   "source": [
    "# add one more column of the input data\n",
    "def add_one_column(input_dataset):\n",
    "    one = np.ones(input_dataset.shape[0]).reshape(input_dataset.shape[0], 1)\n",
    "    new_data = np.hstack((one, input_dataset))\n",
    "    return new_data \n",
    "\n",
    "# train_y: 100 * 1\n",
    "# test_y: 100 * 1\n",
    "# input_data_x: 100 * 2\n",
    "def calculate_delta(train_y, test_y, input_data_x):\n",
    "    delta = np.sum((train_y - test_y) * input_data_x, axis=0) * 2 / train_y.shape[0]\n",
    "    delta = delta.reshape(input_data_x.shape[1], 1)\n",
    "    return delta\n",
    "\n",
    "# train_y: 100 * 1\n",
    "# test_y: 100 * 1\n",
    "def cost_function(train_y, test_y):\n",
    "    cost = np.sum((train_y - test_y) ** 2) / train_y.shape[0]\n",
    "    return cost"
   ]
  },
  {
   "cell_type": "code",
   "execution_count": 53,
   "metadata": {
    "collapsed": true
   },
   "outputs": [],
   "source": [
    "# train_x: 100 * 1\n",
    "train_x = np.linspace(1.0, 10.0, num = 100)[:, np.newaxis]\n",
    "# train_y: 100 * 1\n",
    "train_y = np.sin(train_x) + 0.1 * np.power(train_x, 2) + 0.5 * np.random.randn(100, 1)"
   ]
  },
  {
   "cell_type": "code",
   "execution_count": 54,
   "metadata": {
    "collapsed": false
   },
   "outputs": [],
   "source": [
    "# input_data_x: 100 * 2\n",
    "input_data_x = add_one_column(train_x)\n",
    "# parameter: 2 * 1\n",
    "parameter = np.random.randn(2, 1)\n",
    "# learning rate\n",
    "eta = 0.01\n",
    "training_epoch = 1"
   ]
  },
  {
   "cell_type": "code",
   "execution_count": 55,
   "metadata": {
    "collapsed": false
   },
   "outputs": [],
   "source": [
    "for i in range(training_epoch):\n",
    "    # test_y: 100 * 1\n",
    "    test_y = input_data_x.dot(parameter)\n",
    "    \n",
    "    cost = cost_function(train_y, test_y)\n",
    "    # early stop\n",
    "    if cost < 0.0001 and cost > -0.0001:\n",
    "        break\n",
    "    \n",
    "    # delta: 2 * 1\n",
    "    delta = calculate_delta(train_y, test_y, input_data_x)\n",
    "    # parameter: 2 * 1\n",
    "    parameter = parameter + eta * delta"
   ]
  },
  {
   "cell_type": "code",
   "execution_count": 56,
   "metadata": {
    "collapsed": true
   },
   "outputs": [],
   "source": [
    "# test_y: 100 * 1\n",
    "test_y = input_data_x.dot(parameter)"
   ]
  },
  {
   "cell_type": "code",
   "execution_count": 57,
   "metadata": {
    "collapsed": false
   },
   "outputs": [
    {
     "data": {
      "image/png": "[encoded data removed]",
      "text/plain": [
       "<matplotlib.figure.Figure at 0x1137bbda0>"
      ]
     },
     "metadata": {},
     "output_type": "display_data"
    }
   ],
   "source": [
    "plt.plot(train_x, train_y, 'ro', label = \"training data\")\n",
    "plt.plot(train_x, test_y, label = \"the fitted line\")\n",
    "plt.title('the linear regression algorithm to fit a line')\n",
    "plt.xlabel('train_x')\n",
    "plt.ylabel('train_y')\n",
    "plt.legend(loc = 0)\n",
    "plt.show()"
   ]
  }
 ],
 "metadata": {
  "kernelspec": {
   "display_name": "Python 3",
   "language": "python",
   "name": "python3"
  },
  "language_info": {
   "codemirror_mode": {
    "name": "ipython",
    "version": 3
   },
   "file_extension": ".py",
   "mimetype": "text/x-python",
   "name": "python",
   "nbconvert_exporter": "python",
   "pygments_lexer": "ipython3",
   "version": "3.6.0"
  }
 },
 "nbformat": 4,
 "nbformat_minor": 2
}
